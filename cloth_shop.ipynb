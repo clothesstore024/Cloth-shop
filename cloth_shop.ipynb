{
  "cells": [
    {
      "cell_type": "markdown",
      "metadata": {
        "id": "view-in-github",
        "colab_type": "text"
      },
      "source": [
        "<a href=\"https://colab.research.google.com/github/clothesstore024/Cloth-shop/blob/main/cloth_shop.ipynb\" target=\"_parent\"><img src=\"https://colab.research.google.com/assets/colab-badge.svg\" alt=\"Open In Colab\"/></a>"
      ]
    },
    {
      "cell_type": "code",
      "execution_count": 68,
      "id": "516f6380",
      "metadata": {
        "id": "516f6380"
      },
      "outputs": [],
      "source": [
        "import pandas as pd"
      ]
    },
    {
      "cell_type": "code",
      "source": [
        "url = 'https://raw.githubusercontent.com/clothesstore024/Cloth-shop/main/cloth_shop.csv'\n",
        "df = pd.read_csv(url, encoding='ISO-8859-1', delimiter=',')\n"
      ],
      "metadata": {
        "id": "SgMWcTwaoGL7"
      },
      "id": "SgMWcTwaoGL7",
      "execution_count": 69,
      "outputs": []
    },
    {
      "cell_type": "code",
      "source": [
        "df.describe()"
      ],
      "metadata": {
        "id": "KPO30lZHfAuH",
        "outputId": "aade5600-9767-424c-886e-9d7592a27a29",
        "colab": {
          "base_uri": "https://localhost:8080/",
          "height": 300
        }
      },
      "id": "KPO30lZHfAuH",
      "execution_count": 70,
      "outputs": [
        {
          "output_type": "execute_result",
          "data": {
            "text/plain": [
              "         Unnamed: 0   Clothing ID           Age        Rating  \\\n",
              "count  23486.000000  23486.000000  23486.000000  23486.000000   \n",
              "mean   11742.500000    918.118709     43.198544      4.196032   \n",
              "std     6779.968547    203.298980     12.279544      1.110031   \n",
              "min        0.000000      0.000000     18.000000      1.000000   \n",
              "25%     5871.250000    861.000000     34.000000      4.000000   \n",
              "50%    11742.500000    936.000000     41.000000      5.000000   \n",
              "75%    17613.750000   1078.000000     52.000000      5.000000   \n",
              "max    23485.000000   1205.000000     99.000000      5.000000   \n",
              "\n",
              "       Recommended IND  Positive Feedback Count  \n",
              "count     23486.000000             23486.000000  \n",
              "mean          0.822362                 2.535936  \n",
              "std           0.382216                 5.702202  \n",
              "min           0.000000                 0.000000  \n",
              "25%           1.000000                 0.000000  \n",
              "50%           1.000000                 1.000000  \n",
              "75%           1.000000                 3.000000  \n",
              "max           1.000000               122.000000  "
            ],
            "text/html": [
              "\n",
              "  <div id=\"df-5384be72-56f8-4e0b-9e0e-c78d8b62b922\">\n",
              "    <div class=\"colab-df-container\">\n",
              "      <div>\n",
              "<style scoped>\n",
              "    .dataframe tbody tr th:only-of-type {\n",
              "        vertical-align: middle;\n",
              "    }\n",
              "\n",
              "    .dataframe tbody tr th {\n",
              "        vertical-align: top;\n",
              "    }\n",
              "\n",
              "    .dataframe thead th {\n",
              "        text-align: right;\n",
              "    }\n",
              "</style>\n",
              "<table border=\"1\" class=\"dataframe\">\n",
              "  <thead>\n",
              "    <tr style=\"text-align: right;\">\n",
              "      <th></th>\n",
              "      <th>Unnamed: 0</th>\n",
              "      <th>Clothing ID</th>\n",
              "      <th>Age</th>\n",
              "      <th>Rating</th>\n",
              "      <th>Recommended IND</th>\n",
              "      <th>Positive Feedback Count</th>\n",
              "    </tr>\n",
              "  </thead>\n",
              "  <tbody>\n",
              "    <tr>\n",
              "      <th>count</th>\n",
              "      <td>23486.000000</td>\n",
              "      <td>23486.000000</td>\n",
              "      <td>23486.000000</td>\n",
              "      <td>23486.000000</td>\n",
              "      <td>23486.000000</td>\n",
              "      <td>23486.000000</td>\n",
              "    </tr>\n",
              "    <tr>\n",
              "      <th>mean</th>\n",
              "      <td>11742.500000</td>\n",
              "      <td>918.118709</td>\n",
              "      <td>43.198544</td>\n",
              "      <td>4.196032</td>\n",
              "      <td>0.822362</td>\n",
              "      <td>2.535936</td>\n",
              "    </tr>\n",
              "    <tr>\n",
              "      <th>std</th>\n",
              "      <td>6779.968547</td>\n",
              "      <td>203.298980</td>\n",
              "      <td>12.279544</td>\n",
              "      <td>1.110031</td>\n",
              "      <td>0.382216</td>\n",
              "      <td>5.702202</td>\n",
              "    </tr>\n",
              "    <tr>\n",
              "      <th>min</th>\n",
              "      <td>0.000000</td>\n",
              "      <td>0.000000</td>\n",
              "      <td>18.000000</td>\n",
              "      <td>1.000000</td>\n",
              "      <td>0.000000</td>\n",
              "      <td>0.000000</td>\n",
              "    </tr>\n",
              "    <tr>\n",
              "      <th>25%</th>\n",
              "      <td>5871.250000</td>\n",
              "      <td>861.000000</td>\n",
              "      <td>34.000000</td>\n",
              "      <td>4.000000</td>\n",
              "      <td>1.000000</td>\n",
              "      <td>0.000000</td>\n",
              "    </tr>\n",
              "    <tr>\n",
              "      <th>50%</th>\n",
              "      <td>11742.500000</td>\n",
              "      <td>936.000000</td>\n",
              "      <td>41.000000</td>\n",
              "      <td>5.000000</td>\n",
              "      <td>1.000000</td>\n",
              "      <td>1.000000</td>\n",
              "    </tr>\n",
              "    <tr>\n",
              "      <th>75%</th>\n",
              "      <td>17613.750000</td>\n",
              "      <td>1078.000000</td>\n",
              "      <td>52.000000</td>\n",
              "      <td>5.000000</td>\n",
              "      <td>1.000000</td>\n",
              "      <td>3.000000</td>\n",
              "    </tr>\n",
              "    <tr>\n",
              "      <th>max</th>\n",
              "      <td>23485.000000</td>\n",
              "      <td>1205.000000</td>\n",
              "      <td>99.000000</td>\n",
              "      <td>5.000000</td>\n",
              "      <td>1.000000</td>\n",
              "      <td>122.000000</td>\n",
              "    </tr>\n",
              "  </tbody>\n",
              "</table>\n",
              "</div>\n",
              "      <button class=\"colab-df-convert\" onclick=\"convertToInteractive('df-5384be72-56f8-4e0b-9e0e-c78d8b62b922')\"\n",
              "              title=\"Convert this dataframe to an interactive table.\"\n",
              "              style=\"display:none;\">\n",
              "        \n",
              "  <svg xmlns=\"http://www.w3.org/2000/svg\" height=\"24px\"viewBox=\"0 0 24 24\"\n",
              "       width=\"24px\">\n",
              "    <path d=\"M0 0h24v24H0V0z\" fill=\"none\"/>\n",
              "    <path d=\"M18.56 5.44l.94 2.06.94-2.06 2.06-.94-2.06-.94-.94-2.06-.94 2.06-2.06.94zm-11 1L8.5 8.5l.94-2.06 2.06-.94-2.06-.94L8.5 2.5l-.94 2.06-2.06.94zm10 10l.94 2.06.94-2.06 2.06-.94-2.06-.94-.94-2.06-.94 2.06-2.06.94z\"/><path d=\"M17.41 7.96l-1.37-1.37c-.4-.4-.92-.59-1.43-.59-.52 0-1.04.2-1.43.59L10.3 9.45l-7.72 7.72c-.78.78-.78 2.05 0 2.83L4 21.41c.39.39.9.59 1.41.59.51 0 1.02-.2 1.41-.59l7.78-7.78 2.81-2.81c.8-.78.8-2.07 0-2.86zM5.41 20L4 18.59l7.72-7.72 1.47 1.35L5.41 20z\"/>\n",
              "  </svg>\n",
              "      </button>\n",
              "      \n",
              "  <style>\n",
              "    .colab-df-container {\n",
              "      display:flex;\n",
              "      flex-wrap:wrap;\n",
              "      gap: 12px;\n",
              "    }\n",
              "\n",
              "    .colab-df-convert {\n",
              "      background-color: #E8F0FE;\n",
              "      border: none;\n",
              "      border-radius: 50%;\n",
              "      cursor: pointer;\n",
              "      display: none;\n",
              "      fill: #1967D2;\n",
              "      height: 32px;\n",
              "      padding: 0 0 0 0;\n",
              "      width: 32px;\n",
              "    }\n",
              "\n",
              "    .colab-df-convert:hover {\n",
              "      background-color: #E2EBFA;\n",
              "      box-shadow: 0px 1px 2px rgba(60, 64, 67, 0.3), 0px 1px 3px 1px rgba(60, 64, 67, 0.15);\n",
              "      fill: #174EA6;\n",
              "    }\n",
              "\n",
              "    [theme=dark] .colab-df-convert {\n",
              "      background-color: #3B4455;\n",
              "      fill: #D2E3FC;\n",
              "    }\n",
              "\n",
              "    [theme=dark] .colab-df-convert:hover {\n",
              "      background-color: #434B5C;\n",
              "      box-shadow: 0px 1px 3px 1px rgba(0, 0, 0, 0.15);\n",
              "      filter: drop-shadow(0px 1px 2px rgba(0, 0, 0, 0.3));\n",
              "      fill: #FFFFFF;\n",
              "    }\n",
              "  </style>\n",
              "\n",
              "      <script>\n",
              "        const buttonEl =\n",
              "          document.querySelector('#df-5384be72-56f8-4e0b-9e0e-c78d8b62b922 button.colab-df-convert');\n",
              "        buttonEl.style.display =\n",
              "          google.colab.kernel.accessAllowed ? 'block' : 'none';\n",
              "\n",
              "        async function convertToInteractive(key) {\n",
              "          const element = document.querySelector('#df-5384be72-56f8-4e0b-9e0e-c78d8b62b922');\n",
              "          const dataTable =\n",
              "            await google.colab.kernel.invokeFunction('convertToInteractive',\n",
              "                                                     [key], {});\n",
              "          if (!dataTable) return;\n",
              "\n",
              "          const docLinkHtml = 'Like what you see? Visit the ' +\n",
              "            '<a target=\"_blank\" href=https://colab.research.google.com/notebooks/data_table.ipynb>data table notebook</a>'\n",
              "            + ' to learn more about interactive tables.';\n",
              "          element.innerHTML = '';\n",
              "          dataTable['output_type'] = 'display_data';\n",
              "          await google.colab.output.renderOutput(dataTable, element);\n",
              "          const docLink = document.createElement('div');\n",
              "          docLink.innerHTML = docLinkHtml;\n",
              "          element.appendChild(docLink);\n",
              "        }\n",
              "      </script>\n",
              "    </div>\n",
              "  </div>\n",
              "  "
            ]
          },
          "metadata": {},
          "execution_count": 70
        }
      ]
    },
    {
      "cell_type": "code",
      "execution_count": 71,
      "id": "d1eddda4",
      "metadata": {
        "id": "d1eddda4",
        "outputId": "3483df04-f8cf-4c75-87a3-ee783359ff84",
        "colab": {
          "base_uri": "https://localhost:8080/"
        }
      },
      "outputs": [
        {
          "output_type": "stream",
          "name": "stdout",
          "text": [
            "<class 'pandas.core.frame.DataFrame'>\n",
            "RangeIndex: 23486 entries, 0 to 23485\n",
            "Data columns (total 11 columns):\n",
            " #   Column                   Non-Null Count  Dtype \n",
            "---  ------                   --------------  ----- \n",
            " 0   Unnamed: 0               23486 non-null  int64 \n",
            " 1   Clothing ID              23486 non-null  int64 \n",
            " 2   Age                      23486 non-null  int64 \n",
            " 3   Title                    19676 non-null  object\n",
            " 4   Review Text              22641 non-null  object\n",
            " 5   Rating                   23486 non-null  int64 \n",
            " 6   Recommended IND          23486 non-null  int64 \n",
            " 7   Positive Feedback Count  23486 non-null  int64 \n",
            " 8   Division Name            23472 non-null  object\n",
            " 9   Department Name          23472 non-null  object\n",
            " 10  Class Name               23472 non-null  object\n",
            "dtypes: int64(6), object(5)\n",
            "memory usage: 2.0+ MB\n"
          ]
        }
      ],
      "source": [
        "df.info()"
      ]
    },
    {
      "cell_type": "code",
      "execution_count": 72,
      "id": "28aa9e48",
      "metadata": {
        "id": "28aa9e48",
        "outputId": "ff81fe0f-2b96-41b0-8814-26d819581c90",
        "colab": {
          "base_uri": "https://localhost:8080/",
          "height": 354
        }
      },
      "outputs": [
        {
          "output_type": "execute_result",
          "data": {
            "text/plain": [
              "   Unnamed: 0  Clothing ID  Age                    Title  \\\n",
              "0           0          767   33                      NaN   \n",
              "1           1         1080   34                      NaN   \n",
              "2           2         1077   60  Some major design flaws   \n",
              "3           3         1049   50         My favorite buy!   \n",
              "4           4          847   47         Flattering shirt   \n",
              "\n",
              "                                         Review Text  Rating  Recommended IND  \\\n",
              "0  Absolutely wonderful - silky and sexy and comf...       4                1   \n",
              "1  Love this dress!  it's sooo pretty.  i happene...       5                1   \n",
              "2  I had such high hopes for this dress and reall...       3                0   \n",
              "3  I love, love, love this jumpsuit. it's fun, fl...       5                1   \n",
              "4  This shirt is very flattering to all due to th...       5                1   \n",
              "\n",
              "   Positive Feedback Count   Division Name Department Name Class Name  \n",
              "0                        0       Initmates        Intimate  Intimates  \n",
              "1                        4         General         Dresses    Dresses  \n",
              "2                        0         General         Dresses    Dresses  \n",
              "3                        0  General Petite         Bottoms      Pants  \n",
              "4                        6         General            Tops    Blouses  "
            ],
            "text/html": [
              "\n",
              "  <div id=\"df-c3a2e1bc-59b5-4c0e-a3ce-856093d5d4ed\">\n",
              "    <div class=\"colab-df-container\">\n",
              "      <div>\n",
              "<style scoped>\n",
              "    .dataframe tbody tr th:only-of-type {\n",
              "        vertical-align: middle;\n",
              "    }\n",
              "\n",
              "    .dataframe tbody tr th {\n",
              "        vertical-align: top;\n",
              "    }\n",
              "\n",
              "    .dataframe thead th {\n",
              "        text-align: right;\n",
              "    }\n",
              "</style>\n",
              "<table border=\"1\" class=\"dataframe\">\n",
              "  <thead>\n",
              "    <tr style=\"text-align: right;\">\n",
              "      <th></th>\n",
              "      <th>Unnamed: 0</th>\n",
              "      <th>Clothing ID</th>\n",
              "      <th>Age</th>\n",
              "      <th>Title</th>\n",
              "      <th>Review Text</th>\n",
              "      <th>Rating</th>\n",
              "      <th>Recommended IND</th>\n",
              "      <th>Positive Feedback Count</th>\n",
              "      <th>Division Name</th>\n",
              "      <th>Department Name</th>\n",
              "      <th>Class Name</th>\n",
              "    </tr>\n",
              "  </thead>\n",
              "  <tbody>\n",
              "    <tr>\n",
              "      <th>0</th>\n",
              "      <td>0</td>\n",
              "      <td>767</td>\n",
              "      <td>33</td>\n",
              "      <td>NaN</td>\n",
              "      <td>Absolutely wonderful - silky and sexy and comf...</td>\n",
              "      <td>4</td>\n",
              "      <td>1</td>\n",
              "      <td>0</td>\n",
              "      <td>Initmates</td>\n",
              "      <td>Intimate</td>\n",
              "      <td>Intimates</td>\n",
              "    </tr>\n",
              "    <tr>\n",
              "      <th>1</th>\n",
              "      <td>1</td>\n",
              "      <td>1080</td>\n",
              "      <td>34</td>\n",
              "      <td>NaN</td>\n",
              "      <td>Love this dress!  it's sooo pretty.  i happene...</td>\n",
              "      <td>5</td>\n",
              "      <td>1</td>\n",
              "      <td>4</td>\n",
              "      <td>General</td>\n",
              "      <td>Dresses</td>\n",
              "      <td>Dresses</td>\n",
              "    </tr>\n",
              "    <tr>\n",
              "      <th>2</th>\n",
              "      <td>2</td>\n",
              "      <td>1077</td>\n",
              "      <td>60</td>\n",
              "      <td>Some major design flaws</td>\n",
              "      <td>I had such high hopes for this dress and reall...</td>\n",
              "      <td>3</td>\n",
              "      <td>0</td>\n",
              "      <td>0</td>\n",
              "      <td>General</td>\n",
              "      <td>Dresses</td>\n",
              "      <td>Dresses</td>\n",
              "    </tr>\n",
              "    <tr>\n",
              "      <th>3</th>\n",
              "      <td>3</td>\n",
              "      <td>1049</td>\n",
              "      <td>50</td>\n",
              "      <td>My favorite buy!</td>\n",
              "      <td>I love, love, love this jumpsuit. it's fun, fl...</td>\n",
              "      <td>5</td>\n",
              "      <td>1</td>\n",
              "      <td>0</td>\n",
              "      <td>General Petite</td>\n",
              "      <td>Bottoms</td>\n",
              "      <td>Pants</td>\n",
              "    </tr>\n",
              "    <tr>\n",
              "      <th>4</th>\n",
              "      <td>4</td>\n",
              "      <td>847</td>\n",
              "      <td>47</td>\n",
              "      <td>Flattering shirt</td>\n",
              "      <td>This shirt is very flattering to all due to th...</td>\n",
              "      <td>5</td>\n",
              "      <td>1</td>\n",
              "      <td>6</td>\n",
              "      <td>General</td>\n",
              "      <td>Tops</td>\n",
              "      <td>Blouses</td>\n",
              "    </tr>\n",
              "  </tbody>\n",
              "</table>\n",
              "</div>\n",
              "      <button class=\"colab-df-convert\" onclick=\"convertToInteractive('df-c3a2e1bc-59b5-4c0e-a3ce-856093d5d4ed')\"\n",
              "              title=\"Convert this dataframe to an interactive table.\"\n",
              "              style=\"display:none;\">\n",
              "        \n",
              "  <svg xmlns=\"http://www.w3.org/2000/svg\" height=\"24px\"viewBox=\"0 0 24 24\"\n",
              "       width=\"24px\">\n",
              "    <path d=\"M0 0h24v24H0V0z\" fill=\"none\"/>\n",
              "    <path d=\"M18.56 5.44l.94 2.06.94-2.06 2.06-.94-2.06-.94-.94-2.06-.94 2.06-2.06.94zm-11 1L8.5 8.5l.94-2.06 2.06-.94-2.06-.94L8.5 2.5l-.94 2.06-2.06.94zm10 10l.94 2.06.94-2.06 2.06-.94-2.06-.94-.94-2.06-.94 2.06-2.06.94z\"/><path d=\"M17.41 7.96l-1.37-1.37c-.4-.4-.92-.59-1.43-.59-.52 0-1.04.2-1.43.59L10.3 9.45l-7.72 7.72c-.78.78-.78 2.05 0 2.83L4 21.41c.39.39.9.59 1.41.59.51 0 1.02-.2 1.41-.59l7.78-7.78 2.81-2.81c.8-.78.8-2.07 0-2.86zM5.41 20L4 18.59l7.72-7.72 1.47 1.35L5.41 20z\"/>\n",
              "  </svg>\n",
              "      </button>\n",
              "      \n",
              "  <style>\n",
              "    .colab-df-container {\n",
              "      display:flex;\n",
              "      flex-wrap:wrap;\n",
              "      gap: 12px;\n",
              "    }\n",
              "\n",
              "    .colab-df-convert {\n",
              "      background-color: #E8F0FE;\n",
              "      border: none;\n",
              "      border-radius: 50%;\n",
              "      cursor: pointer;\n",
              "      display: none;\n",
              "      fill: #1967D2;\n",
              "      height: 32px;\n",
              "      padding: 0 0 0 0;\n",
              "      width: 32px;\n",
              "    }\n",
              "\n",
              "    .colab-df-convert:hover {\n",
              "      background-color: #E2EBFA;\n",
              "      box-shadow: 0px 1px 2px rgba(60, 64, 67, 0.3), 0px 1px 3px 1px rgba(60, 64, 67, 0.15);\n",
              "      fill: #174EA6;\n",
              "    }\n",
              "\n",
              "    [theme=dark] .colab-df-convert {\n",
              "      background-color: #3B4455;\n",
              "      fill: #D2E3FC;\n",
              "    }\n",
              "\n",
              "    [theme=dark] .colab-df-convert:hover {\n",
              "      background-color: #434B5C;\n",
              "      box-shadow: 0px 1px 3px 1px rgba(0, 0, 0, 0.15);\n",
              "      filter: drop-shadow(0px 1px 2px rgba(0, 0, 0, 0.3));\n",
              "      fill: #FFFFFF;\n",
              "    }\n",
              "  </style>\n",
              "\n",
              "      <script>\n",
              "        const buttonEl =\n",
              "          document.querySelector('#df-c3a2e1bc-59b5-4c0e-a3ce-856093d5d4ed button.colab-df-convert');\n",
              "        buttonEl.style.display =\n",
              "          google.colab.kernel.accessAllowed ? 'block' : 'none';\n",
              "\n",
              "        async function convertToInteractive(key) {\n",
              "          const element = document.querySelector('#df-c3a2e1bc-59b5-4c0e-a3ce-856093d5d4ed');\n",
              "          const dataTable =\n",
              "            await google.colab.kernel.invokeFunction('convertToInteractive',\n",
              "                                                     [key], {});\n",
              "          if (!dataTable) return;\n",
              "\n",
              "          const docLinkHtml = 'Like what you see? Visit the ' +\n",
              "            '<a target=\"_blank\" href=https://colab.research.google.com/notebooks/data_table.ipynb>data table notebook</a>'\n",
              "            + ' to learn more about interactive tables.';\n",
              "          element.innerHTML = '';\n",
              "          dataTable['output_type'] = 'display_data';\n",
              "          await google.colab.output.renderOutput(dataTable, element);\n",
              "          const docLink = document.createElement('div');\n",
              "          docLink.innerHTML = docLinkHtml;\n",
              "          element.appendChild(docLink);\n",
              "        }\n",
              "      </script>\n",
              "    </div>\n",
              "  </div>\n",
              "  "
            ]
          },
          "metadata": {},
          "execution_count": 72
        }
      ],
      "source": [
        "df.head(5)"
      ]
    },
    {
      "cell_type": "code",
      "execution_count": 73,
      "id": "6374506b",
      "metadata": {
        "id": "6374506b",
        "colab": {
          "base_uri": "https://localhost:8080/"
        },
        "outputId": "b5336652-7302-446f-efd0-7ceb3dcff006"
      },
      "outputs": [
        {
          "output_type": "execute_result",
          "data": {
            "text/plain": [
              "43.198543813335604"
            ]
          },
          "metadata": {},
          "execution_count": 73
        }
      ],
      "source": [
        "df['Age'].mean()"
      ]
    },
    {
      "cell_type": "code",
      "execution_count": 74,
      "id": "f5fe695d",
      "metadata": {
        "id": "f5fe695d",
        "outputId": "f293ba6e-646f-444a-e635-ac1f407d4656",
        "colab": {
          "base_uri": "https://localhost:8080/"
        }
      },
      "outputs": [
        {
          "output_type": "execute_result",
          "data": {
            "text/plain": [
              "2.535936302478072"
            ]
          },
          "metadata": {},
          "execution_count": 74
        }
      ],
      "source": [
        "df['Positive Feedback Count'].mean()"
      ]
    },
    {
      "cell_type": "code",
      "execution_count": 75,
      "id": "07e83bed",
      "metadata": {
        "id": "07e83bed"
      },
      "outputs": [],
      "source": [
        "import numpy as np\n",
        "import scipy.stats as st\n",
        "import matplotlib.pyplot as plt\n",
        "import seaborn as sns"
      ]
    },
    {
      "cell_type": "code",
      "source": [
        "fig, ax = plt.subplots()\n",
        "_ = plt.hist(df['Age'], color = 'lightgreen')"
      ],
      "metadata": {
        "colab": {
          "base_uri": "https://localhost:8080/",
          "height": 430
        },
        "id": "nyDpJOYtbkbr",
        "outputId": "8d4cdf01-0527-4a84-f073-96b3c9fb43ea"
      },
      "id": "nyDpJOYtbkbr",
      "execution_count": 76,
      "outputs": [
        {
          "output_type": "display_data",
          "data": {
            "text/plain": [
              "<Figure size 640x480 with 1 Axes>"
            ],
            "image/png": "[encoded data removed]"
          },
          "metadata": {}
        }
      ]
    },
    {
      "cell_type": "code",
      "source": [
        "minimum_age = df['Age'].min()\n",
        "minimum_age"
      ],
      "metadata": {
        "id": "77ZecDHh4EEl",
        "outputId": "9fccfd3f-6b26-4056-caab-12b6576585dc",
        "colab": {
          "base_uri": "https://localhost:8080/"
        }
      },
      "id": "77ZecDHh4EEl",
      "execution_count": 77,
      "outputs": [
        {
          "output_type": "execute_result",
          "data": {
            "text/plain": [
              "18"
            ]
          },
          "metadata": {},
          "execution_count": 77
        }
      ]
    },
    {
      "cell_type": "code",
      "source": [
        "maximum_age = df['Age'].max()\n",
        "maximum_age"
      ],
      "metadata": {
        "id": "WsCYsWHE4Sz_",
        "outputId": "9a80a5e2-8abc-4d42-9f0a-4434d79af995",
        "colab": {
          "base_uri": "https://localhost:8080/"
        }
      },
      "id": "WsCYsWHE4Sz_",
      "execution_count": 78,
      "outputs": [
        {
          "output_type": "execute_result",
          "data": {
            "text/plain": [
              "99"
            ]
          },
          "metadata": {},
          "execution_count": 78
        }
      ]
    },
    {
      "cell_type": "code",
      "source": [
        "most_repeated_age = df['Age'].mode()\n",
        "most_repeated_age"
      ],
      "metadata": {
        "id": "4xp5xUYQ4sS2",
        "outputId": "d0e906a6-62d3-4ff6-fc2a-1a765329245e",
        "colab": {
          "base_uri": "https://localhost:8080/"
        }
      },
      "id": "4xp5xUYQ4sS2",
      "execution_count": 79,
      "outputs": [
        {
          "output_type": "execute_result",
          "data": {
            "text/plain": [
              "0    39\n",
              "Name: Age, dtype: int64"
            ]
          },
          "metadata": {},
          "execution_count": 79
        }
      ]
    },
    {
      "cell_type": "code",
      "source": [
        "mean = df['Age'].mean()\n",
        "mean"
      ],
      "metadata": {
        "colab": {
          "base_uri": "https://localhost:8080/"
        },
        "id": "GRh-Sed0byjk",
        "outputId": "c87c7821-b5b2-4962-cadf-f11f0db0221f"
      },
      "id": "GRh-Sed0byjk",
      "execution_count": 80,
      "outputs": [
        {
          "output_type": "execute_result",
          "data": {
            "text/plain": [
              "43.198543813335604"
            ]
          },
          "metadata": {},
          "execution_count": 80
        }
      ]
    },
    {
      "cell_type": "code",
      "source": [
        "median = np.median(df['Age'])\n",
        "median "
      ],
      "metadata": {
        "id": "UGfPZ22Qc2cc",
        "outputId": "0341038f-d0ca-4ef3-da74-14ac88890886",
        "colab": {
          "base_uri": "https://localhost:8080/"
        }
      },
      "id": "UGfPZ22Qc2cc",
      "execution_count": 81,
      "outputs": [
        {
          "output_type": "execute_result",
          "data": {
            "text/plain": [
              "41.0"
            ]
          },
          "metadata": {},
          "execution_count": 81
        }
      ]
    },
    {
      "cell_type": "code",
      "source": [
        "product_ratings = df.groupby('Title')['Rating'].count().reset_index()\n",
        "top_rated_products = product_ratings.sort_values('Rating', ascending=False)\n",
        "print(top_rated_products.head(10))\n",
        "#finding most rated product"
      ],
      "metadata": {
        "id": "5-MWo8a-_3QD",
        "outputId": "fc14fac8-54c1-46f2-e230-ba10dad4045e",
        "colab": {
          "base_uri": "https://localhost:8080/"
        }
      },
      "id": "5-MWo8a-_3QD",
      "execution_count": 111,
      "outputs": [
        {
          "output_type": "stream",
          "name": "stdout",
          "text": [
            "                 Title  Rating\n",
            "7023          Love it!     136\n",
            "873          Beautiful      95\n",
            "6958              Love      88\n",
            "7371             Love!      84\n",
            "1457        Beautiful!      72\n",
            "1133   Beautiful dress      60\n",
            "6998           Love it      59\n",
            "4842          Gorgeous      53\n",
            "7293  Love this dress!      53\n",
            "3164          Cute top      52\n"
          ]
        }
      ]
    },
    {
      "cell_type": "code",
      "source": [
        "feedback_counts = df.groupby('Title')['Positive Feedback Count'].sum()\n",
        "sorted_counts = feedback_counts.sort_values(ascending=False)\n",
        "N = 10\n",
        "most_feedbacked = sorted_counts.head(N)\n",
        "print(most_feedbacked)\n",
        "#find the dressed with most feedback"
      ],
      "metadata": {
        "id": "7tyCm_SFC8Ht",
        "outputId": "511b57ac-6cdc-4ec2-dd1a-0edcfb0e4a55",
        "colab": {
          "base_uri": "https://localhost:8080/"
        }
      },
      "id": "7tyCm_SFC8Ht",
      "execution_count": 113,
      "outputs": [
        {
          "output_type": "stream",
          "name": "stdout",
          "text": [
            "Title\n",
            "Beautiful dress    300\n",
            "Beautiful          293\n",
            "Love it!           243\n",
            "Disappointed       237\n",
            "Beautiful!         204\n",
            "Disappointing      158\n",
            "Love               152\n",
            "Gorgeous           149\n",
            "Great dress        143\n",
            "Cute top           140\n",
            "Name: Positive Feedback Count, dtype: int64\n"
          ]
        }
      ]
    },
    {
      "cell_type": "code",
      "source": [
        "df_80plus = df[df['Age'] > 80]\n",
        "product_purchases = df_80plus.groupby('Title')['Age'].count().reset_index()\n",
        "top_purchased_products = product_purchases.sort_values('Title', ascending=False).head(1)\n",
        "product_title = df.loc[df['Title'] == top_purchased_products['Title'].iloc[0], 'Title'].iloc[0]\n",
        "print(f\"The most purchased item by people over 80 years old is: {product_title}\")"
      ],
      "metadata": {
        "id": "x4sq8ZnnHky5",
        "outputId": "ac586dfd-167e-4db1-deb6-726ac59d1fe3",
        "colab": {
          "base_uri": "https://localhost:8080/"
        }
      },
      "id": "x4sq8ZnnHky5",
      "execution_count": 121,
      "outputs": [
        {
          "output_type": "stream",
          "name": "stdout",
          "text": [
            "The most purchased item by people over 80 years old is: Western t\n"
          ]
        }
      ]
    },
    {
      "cell_type": "code",
      "source": [
        "# To find the most unbought product by people older than 80 years\n",
        "df_over_80 = df[df['Age'] > 80]\n",
        "product_counts = df_over_80.groupby('Title')['Age'].count().reset_index()\n",
        "least_purchased_products = product_counts.sort_values('Title', ascending=True)\n",
        "print('The product with the least number of purchases among people over 80 years old is:')\n",
        "print(least_purchased_products.iloc[0]['Title'])\n"
      ],
      "metadata": {
        "id": "RJCU3yN8KGyG",
        "outputId": "ce548d15-af42-4a2a-d45b-3038a98f10b9",
        "colab": {
          "base_uri": "https://localhost:8080/"
        }
      },
      "id": "RJCU3yN8KGyG",
      "execution_count": 123,
      "outputs": [
        {
          "output_type": "stream",
          "name": "stdout",
          "text": [
            "The product with the least number of purchases among people over 80 years old is:\n",
            "A perfect 10 !\n"
          ]
        }
      ]
    },
    {
      "cell_type": "code",
      "source": [
        "fig, ax = plt.subplots()\n",
        "plt.axvline(mean, color='orange')\n",
        "plt.axvline(median, color='green')\n",
        "_ = plt.hist(mean, color = 'lightgray')"
      ],
      "metadata": {
        "colab": {
          "base_uri": "https://localhost:8080/",
          "height": 430
        },
        "id": "7ILAahUYc_3W",
        "outputId": "8d3772ab-8f9f-4723-e598-f70f0cc63aa8"
      },
      "id": "7ILAahUYc_3W",
      "execution_count": 84,
      "outputs": [
        {
          "output_type": "display_data",
          "data": {
            "text/plain": [
              "<Figure size 640x480 with 1 Axes>"
            ],
            "image/png": "[encoded data removed]"
          },
          "metadata": {}
        }
      ]
    },
    {
      "cell_type": "code",
      "source": [
        "varianse  = df['Age'].var()\n",
        "varianse"
      ],
      "metadata": {
        "colab": {
          "base_uri": "https://localhost:8080/"
        },
        "id": "kHyYOBZkdZLZ",
        "outputId": "332a4c14-6170-4b99-dd93-69195d3a1228"
      },
      "id": "kHyYOBZkdZLZ",
      "execution_count": 85,
      "outputs": [
        {
          "output_type": "execute_result",
          "data": {
            "text/plain": [
              "150.78719140721378"
            ]
          },
          "metadata": {},
          "execution_count": 85
        }
      ]
    },
    {
      "cell_type": "code",
      "source": [
        "sigma = df['Age'].std()\n",
        "sigma"
      ],
      "metadata": {
        "colab": {
          "base_uri": "https://localhost:8080/"
        },
        "id": "ipTnLdefd7PU",
        "outputId": "c72dfa7e-05f7-483c-f5c4-ca0e34a21107"
      },
      "id": "ipTnLdefd7PU",
      "execution_count": 86,
      "outputs": [
        {
          "output_type": "execute_result",
          "data": {
            "text/plain": [
              "12.279543615591493"
            ]
          },
          "metadata": {},
          "execution_count": 86
        }
      ]
    },
    {
      "cell_type": "code",
      "source": [
        "fig, ax = plt.subplots()\n",
        "plt.axvline(varianse, color='orange')\n",
        "plt.axvline(varianse+sigma, color='olivedrab')\n",
        "plt.axvline(varianse-sigma, color='olivedrab')\n",
        "_ = plt.hist(sigma, color = 'lightgray')"
      ],
      "metadata": {
        "colab": {
          "base_uri": "https://localhost:8080/",
          "height": 430
        },
        "id": "qbv8IDokeG4d",
        "outputId": "12455b20-399e-40f8-a52a-d3f0340c13b4"
      },
      "id": "qbv8IDokeG4d",
      "execution_count": 87,
      "outputs": [
        {
          "output_type": "display_data",
          "data": {
            "text/plain": [
              "<Figure size 640x480 with 1 Axes>"
            ],
            "image/png": "[encoded data removed]"
          },
          "metadata": {}
        }
      ]
    },
    {
      "cell_type": "code",
      "source": [
        "df['Age'].std()/(df['Age'].size)**(1/2)"
      ],
      "metadata": {
        "id": "FMMYhpmUeqgb",
        "outputId": "452963df-4e39-4397-9d8d-252b4f8acd85",
        "colab": {
          "base_uri": "https://localhost:8080/"
        }
      },
      "id": "FMMYhpmUeqgb",
      "execution_count": 88,
      "outputs": [
        {
          "output_type": "execute_result",
          "data": {
            "text/plain": [
              "0.08012678135503898"
            ]
          },
          "metadata": {},
          "execution_count": 88
        }
      ]
    },
    {
      "cell_type": "code",
      "source": [
        "st.sem(df['Age'])"
      ],
      "metadata": {
        "id": "fwvYti_Ta8vd",
        "outputId": "cf4a8350-f723-4380-bbb4-841fd0560caa",
        "colab": {
          "base_uri": "https://localhost:8080/"
        }
      },
      "id": "fwvYti_Ta8vd",
      "execution_count": 89,
      "outputs": [
        {
          "output_type": "execute_result",
          "data": {
            "text/plain": [
              "0.08012678135503898"
            ]
          },
          "metadata": {},
          "execution_count": 89
        }
      ]
    },
    {
      "cell_type": "code",
      "source": [
        "st.sem(df['Age'], ddof=0)"
      ],
      "metadata": {
        "id": "mDHhJp6abGW5",
        "outputId": "c9fe4c4c-315b-462f-e8d6-49a0bebcbd9a",
        "colab": {
          "base_uri": "https://localhost:8080/"
        }
      },
      "id": "mDHhJp6abGW5",
      "execution_count": 90,
      "outputs": [
        {
          "output_type": "execute_result",
          "data": {
            "text/plain": [
              "0.0801250754954994"
            ]
          },
          "metadata": {},
          "execution_count": 90
        }
      ]
    },
    {
      "cell_type": "code",
      "source": [
        "sns.set_style('ticks')"
      ],
      "metadata": {
        "id": "XF1XStVEbJov"
      },
      "id": "XF1XStVEbJov",
      "execution_count": 91,
      "outputs": []
    },
    {
      "cell_type": "code",
      "source": [
        "_ = sns.displot(df['Age'], kde=True)"
      ],
      "metadata": {
        "id": "M00x7BHibYpx",
        "outputId": "d558d6f2-8b9c-45fe-9814-a65ddfc33e04",
        "colab": {
          "base_uri": "https://localhost:8080/",
          "height": 506
        }
      },
      "id": "M00x7BHibYpx",
      "execution_count": 92,
      "outputs": [
        {
          "output_type": "display_data",
          "data": {
            "text/plain": [
              "<Figure size 500x500 with 1 Axes>"
            ],
            "image/png": "[encoded data removed]"
          },
          "metadata": {}
        }
      ]
    },
    {
      "cell_type": "code",
      "source": [
        "x1_sample = np.random.choice(df['Age'], size=5000, replace=False)\n",
        "x2_sample = np.random.choice(df['Age'], size=10000, replace=False)"
      ],
      "metadata": {
        "id": "MIeNekfQb1cj"
      },
      "id": "MIeNekfQb1cj",
      "execution_count": 93,
      "outputs": []
    },
    {
      "cell_type": "code",
      "source": [
        "x1_sample.mean()"
      ],
      "metadata": {
        "id": "MUHi92ntb_Se",
        "outputId": "bc878e53-0d0a-4693-83f1-4de90c88fe06",
        "colab": {
          "base_uri": "https://localhost:8080/"
        }
      },
      "id": "MUHi92ntb_Se",
      "execution_count": 94,
      "outputs": [
        {
          "output_type": "execute_result",
          "data": {
            "text/plain": [
              "43.3468"
            ]
          },
          "metadata": {},
          "execution_count": 94
        }
      ]
    },
    {
      "cell_type": "code",
      "source": [
        "x2_sample.mean()"
      ],
      "metadata": {
        "id": "IK1ZM5gFcEaI",
        "outputId": "dc9fa7a9-8a43-4ba6-d0e1-a8f58dc9daf1",
        "colab": {
          "base_uri": "https://localhost:8080/"
        }
      },
      "id": "IK1ZM5gFcEaI",
      "execution_count": 95,
      "outputs": [
        {
          "output_type": "execute_result",
          "data": {
            "text/plain": [
              "43.3546"
            ]
          },
          "metadata": {},
          "execution_count": 95
        }
      ]
    },
    {
      "cell_type": "code",
      "source": [
        "def sample_mean_calculator(input_dist, sample_size, n_samples):\n",
        "    sample_means = []\n",
        "    for i in range(n_samples):\n",
        "        sample = np.random.choice(input_dist, size=sample_size, replace=False)\n",
        "        sample_means.append(sample.mean())\n",
        "    return sample_means"
      ],
      "metadata": {
        "id": "zeEU1mvVdV3K"
      },
      "id": "zeEU1mvVdV3K",
      "execution_count": 96,
      "outputs": []
    },
    {
      "cell_type": "code",
      "source": [
        "xc = sample_mean_calculator(df['Age'], 25, 7)"
      ],
      "metadata": {
        "id": "81e48jWEehGn"
      },
      "id": "81e48jWEehGn",
      "execution_count": 97,
      "outputs": []
    },
    {
      "cell_type": "code",
      "source": [
        "xc"
      ],
      "metadata": {
        "id": "Ufmp77oOeusD",
        "outputId": "60d91471-855e-48fa-b0cd-9278317fc72f",
        "colab": {
          "base_uri": "https://localhost:8080/"
        }
      },
      "id": "Ufmp77oOeusD",
      "execution_count": 98,
      "outputs": [
        {
          "output_type": "execute_result",
          "data": {
            "text/plain": [
              "[43.6, 42.12, 43.16, 42.48, 43.16, 42.6, 44.72]"
            ]
          },
          "metadata": {},
          "execution_count": 98
        }
      ]
    },
    {
      "cell_type": "code",
      "source": [
        "len(np.where(df['Age'] > 40)[0])"
      ],
      "metadata": {
        "id": "3DuMSQGXhEA_",
        "outputId": "1a79730f-58bd-4482-9730-ff3c79a407ed",
        "colab": {
          "base_uri": "https://localhost:8080/"
        }
      },
      "id": "3DuMSQGXhEA_",
      "execution_count": 99,
      "outputs": [
        {
          "output_type": "execute_result",
          "data": {
            "text/plain": [
              "12236"
            ]
          },
          "metadata": {},
          "execution_count": 99
        }
      ]
    },
    {
      "cell_type": "code",
      "source": [
        "np.percentile(df['Rating'], 99.5)"
      ],
      "metadata": {
        "id": "Ek7BHzkkhF6z",
        "outputId": "c3990603-15e4-428c-98d7-db705d8862fc",
        "colab": {
          "base_uri": "https://localhost:8080/"
        }
      },
      "id": "Ek7BHzkkhF6z",
      "execution_count": 100,
      "outputs": [
        {
          "output_type": "execute_result",
          "data": {
            "text/plain": [
              "5.0"
            ]
          },
          "metadata": {},
          "execution_count": 100
        }
      ]
    }
  ],
  "metadata": {
    "kernelspec": {
      "display_name": "Python 3 (ipykernel)",
      "language": "python",
      "name": "python3"
    },
    "language_info": {
      "codemirror_mode": {
        "name": "ipython",
        "version": 3
      },
      "file_extension": ".py",
      "mimetype": "text/x-python",
      "name": "python",
      "nbconvert_exporter": "python",
      "pygments_lexer": "ipython3",
      "version": "3.9.13"
    },
    "colab": {
      "provenance": [],
      "include_colab_link": true
    }
  },
  "nbformat": 4,
  "nbformat_minor": 5
}